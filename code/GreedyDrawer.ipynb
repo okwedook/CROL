{
 "cells": [
  {
   "cell_type": "code",
   "execution_count": 1,
   "id": "42ee65f5",
   "metadata": {},
   "outputs": [],
   "source": [
    "import CloudEnvModule\n",
    "import importlib\n",
    "importlib.reload(CloudEnvModule) # update module in case of changes\n",
    "from CloudEnvModule import CloudEnv # import custom environment\n",
    "from CloudEnvModule import STOP, calculate_evenness, CpuMem\n",
    "from gym.spaces import Box\n",
    "import numpy as np"
   ]
  },
  {
   "cell_type": "code",
   "execution_count": 2,
   "id": "31167631",
   "metadata": {},
   "outputs": [],
   "source": [
    "def rand(a, b):\n",
    "    return np.random.randint(a, b)\n",
    "\n",
    "class NewCloudEnv(CloudEnv):\n",
    "    def __init__(self):\n",
    "        super().__init__(n=30, m=3)\n",
    "        self.timestamp = 0\n",
    "\n",
    "    # def get_state(self):\n",
    "    #     state = np.zeros(shape=(self.n, self.m, 5))\n",
    "    #     for i in range(self.n):\n",
    "    #         for j in range(self.m):\n",
    "    #             state[i][j] = [\n",
    "    #                 self.vms[i].cpu,\n",
    "    #                 self.vms[i].mem,\n",
    "    #                 self.servers[j].cpu,\n",
    "    #                 self.servers[j].mem,\n",
    "    #                 int(self.vms[i] <= self.servers[j])\n",
    "    #             ]\n",
    "    #     return state\n",
    "\n",
    "    def get_reward(self):\n",
    "        ans = 0\n",
    "        ans -= self.timestamp\n",
    "        for i in range(self.n):\n",
    "            if self.vms[i].cpu == STOP:\n",
    "                ans += 1\n",
    "        ans *= 0.1\n",
    "        ans += calculate_evenness(self.servers)\n",
    "        return self.update_score(ans)\n",
    "\n",
    "    def step(self, action):\n",
    "        self.timestamp += 1\n",
    "        return super().step(action)\n",
    "    \n",
    "    def reset(self):\n",
    "        self.timestamp = 0\n",
    "        self.vms = []\n",
    "        self.servers = []\n",
    "        for i in range(self.n):\n",
    "            self.vms.append(CpuMem(rand(1, 4), rand(2, 8)))\n",
    "        for i in range(self.m):\n",
    "            self.servers.append(CpuMem(rand(30, 100), (60, 200)))\n",
    "        self.was = 0\n",
    "        return self.get_state()\n",
    "\n",
    "env = NewCloudEnv()\n",
    "# env = CloudEnv()"
   ]
  },
  {
   "cell_type": "code",
   "execution_count": 3,
   "id": "b6f3c817",
   "metadata": {},
   "outputs": [],
   "source": [
    "import DrawerModule\n",
    "importlib.reload(DrawerModule) # update module in case of changes\n",
    "from DrawerModule import Drawer"
   ]
  },
  {
   "cell_type": "code",
   "execution_count": 4,
   "id": "1daeedef",
   "metadata": {},
   "outputs": [],
   "source": [
    "class GreedyModel:\n",
    "    def __init__(self, env, get_order):\n",
    "        self.order = get_order(env)\n",
    "        self.timestamp = 0\n",
    "    \n",
    "    def predict(self, state):\n",
    "        ans = self.order[0]\n",
    "        if self.timestamp < len(self.order):\n",
    "            ans = self.order[self.timestamp]\n",
    "        self.timestamp += 1\n",
    "        return ans, None"
   ]
  },
  {
   "cell_type": "code",
   "execution_count": 5,
   "id": "e85c355b",
   "metadata": {},
   "outputs": [],
   "source": [
    "def getRandomVmServerOrder(env):\n",
    "    done = False\n",
    "    state = env.reset()\n",
    "    def getCpuMem(vec):\n",
    "        return CpuMem(vec[0], vec[1])\n",
    "    order = []\n",
    "    while not done:\n",
    "        ans = [-1, -1]\n",
    "        while ans == [-1, -1]:\n",
    "            i = np.random.randint(env.n)\n",
    "            j = np.random.randint(env.m)\n",
    "            if getCpuMem(state['vms'][i]) <= getCpuMem(state['servers'][j]):\n",
    "                ans = [i, j]\n",
    "        state, reward, done, _ = env.step(ans)\n",
    "        order.append(ans)\n",
    "    return order"
   ]
  },
  {
   "cell_type": "code",
   "execution_count": 6,
   "id": "d15615eb",
   "metadata": {},
   "outputs": [],
   "source": [
    "greedy_env = CloudEnv()\n",
    "greedy_model = GreedyModel(greedy_env, getRandomVmServerOrder)"
   ]
  },
  {
   "cell_type": "code",
   "execution_count": 7,
   "id": "61cacbfd",
   "metadata": {},
   "outputs": [
    {
     "data": {
      "text/plain": [
       "<DrawerModule.Drawer at 0x7f6f4dd4a670>"
      ]
     },
     "execution_count": 7,
     "metadata": {},
     "output_type": "execute_result"
    }
   ],
   "source": [
    "Drawer(greedy_env, greedy_model, rows=3, seconds_per_frame=0.1)"
   ]
  },
  {
   "cell_type": "code",
   "execution_count": null,
   "id": "8c19f596",
   "metadata": {},
   "outputs": [],
   "source": []
  }
 ],
 "metadata": {
  "interpreter": {
   "hash": "916dbcbb3f70747c44a77c7bcd40155683ae19c65e1c03b4aa3499c5328201f1"
  },
  "kernelspec": {
   "display_name": "Python 3.8.10 64-bit",
   "language": "python",
   "name": "python3"
  },
  "language_info": {
   "codemirror_mode": {
    "name": "ipython",
    "version": 3
   },
   "file_extension": ".py",
   "mimetype": "text/x-python",
   "name": "python",
   "nbconvert_exporter": "python",
   "pygments_lexer": "ipython3",
   "version": "3.8.10"
  }
 },
 "nbformat": 4,
 "nbformat_minor": 5
}
