{
 "cells": [
  {
   "cell_type": "code",
   "execution_count": 1,
   "id": "2fc580e0",
   "metadata": {},
   "outputs": [],
   "source": [
    "from CloudEnv import CloudEnv, STOP, CpuMem\n",
    "import numpy as np"
   ]
  },
  {
   "cell_type": "code",
   "execution_count": 2,
   "id": "1a212dec",
   "metadata": {},
   "outputs": [],
   "source": [
    "env = CloudEnv()"
   ]
  },
  {
   "cell_type": "code",
   "execution_count": 3,
   "id": "0726902c",
   "metadata": {},
   "outputs": [],
   "source": [
    "# Average reward over n_episodes of given policy\n",
    "\n",
    "def policyEvaluation(env, policy, n_episodes=10):\n",
    "    scores = []\n",
    "    for episode in range(n_episodes):\n",
    "        scores.append(policy(env))\n",
    "    print(np.average(scores))"
   ]
  },
  {
   "cell_type": "code",
   "execution_count": 4,
   "id": "1c4b52a8",
   "metadata": {},
   "outputs": [],
   "source": [
    "# First matching server\n",
    "\n",
    "def processGreedyFirstServer(env):\n",
    "    done = False\n",
    "    state = env.reset()\n",
    "    score = 0\n",
    "    def getCpuMem(vec):\n",
    "        return CpuMem(vec[0], vec[1])\n",
    "    while not done:\n",
    "        ans = [-1, -1]\n",
    "        for i in range(env.n):\n",
    "            for j in range(env.m):\n",
    "                if getCpuMem(state['vms'][i]) <= getCpuMem(state['servers'][j]):\n",
    "                    ans = [i, j]\n",
    "        state, reward, done, _ = env.step(ans)\n",
    "        score += reward\n",
    "    return score"
   ]
  },
  {
   "cell_type": "code",
   "execution_count": 5,
   "id": "27e58f55",
   "metadata": {},
   "outputs": [],
   "source": [
    "# Random matching vm/server\n",
    "\n",
    "def processRandomVmServer(env):\n",
    "    done = False\n",
    "    state = env.reset()\n",
    "    score = 0\n",
    "    def getCpuMem(vec):\n",
    "        return CpuMem(vec[0], vec[1])\n",
    "    while not done:\n",
    "        ans = [-1, -1]\n",
    "        while ans == [-1, -1]:\n",
    "            i = np.random.randint(env.n)\n",
    "            j = np.random.randint(env.m)\n",
    "            if getCpuMem(state['vms'][i]) <= getCpuMem(state['servers'][j]):\n",
    "                ans = [i, j]\n",
    "        state, reward, done, _ = env.step(ans)\n",
    "        score += reward\n",
    "    return score"
   ]
  },
  {
   "cell_type": "code",
   "execution_count": 6,
   "id": "8a510104",
   "metadata": {},
   "outputs": [],
   "source": [
    "# Match a server with the biggest current LCPU + LMEM\n",
    "\n",
    "def processBiggestServer(env):\n",
    "    done = False\n",
    "    state = env.reset()\n",
    "    score = 0\n",
    "    def getCpuMem(vec):\n",
    "        return CpuMem(vec[0], vec[1])\n",
    "    while not done:\n",
    "        ans = [-1, -1]\n",
    "        best = -1\n",
    "        for i in range(env.n):\n",
    "            for j in range(env.m):\n",
    "                vm = getCpuMem(state['vms'][i])\n",
    "                server = getCpuMem(state['servers'][j])\n",
    "                if vm <= server and server.cpu + server.mem > best:\n",
    "                    ans = [i, j]\n",
    "                    best = server.cpu + server.mem\n",
    "        state, reward, done, _ = env.step(ans)\n",
    "        score += reward\n",
    "    return score"
   ]
  },
  {
   "cell_type": "code",
   "execution_count": 7,
   "id": "31bc3659",
   "metadata": {},
   "outputs": [
    {
     "name": "stdout",
     "output_type": "stream",
     "text": [
      "0.6767620024439579\n"
     ]
    }
   ],
   "source": [
    "policyEvaluation(env, processGreedyFirstServer)"
   ]
  },
  {
   "cell_type": "code",
   "execution_count": 8,
   "id": "cf5a0bfc",
   "metadata": {},
   "outputs": [
    {
     "name": "stdout",
     "output_type": "stream",
     "text": [
      "0.8448903136878837\n"
     ]
    }
   ],
   "source": [
    "policyEvaluation(env, processRandomVmServer)"
   ]
  },
  {
   "cell_type": "code",
   "execution_count": 9,
   "id": "d2cc6fbf",
   "metadata": {},
   "outputs": [
    {
     "name": "stdout",
     "output_type": "stream",
     "text": [
      "1.0\n"
     ]
    }
   ],
   "source": [
    "policyEvaluation(env, processBiggestServer)"
   ]
  }
 ],
 "metadata": {
  "kernelspec": {
   "display_name": "Python 3 (ipykernel)",
   "language": "python",
   "name": "python3"
  },
  "language_info": {
   "codemirror_mode": {
    "name": "ipython",
    "version": 3
   },
   "file_extension": ".py",
   "mimetype": "text/x-python",
   "name": "python",
   "nbconvert_exporter": "python",
   "pygments_lexer": "ipython3",
   "version": "3.8.10"
  }
 },
 "nbformat": 4,
 "nbformat_minor": 5
}
