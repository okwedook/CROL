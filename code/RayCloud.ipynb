{
 "cells": [
  {
   "cell_type": "code",
   "execution_count": 1,
   "id": "42ee65f5",
   "metadata": {},
   "outputs": [],
   "source": [
    "import CloudEnvModule\n",
    "import importlib\n",
    "importlib.reload(CloudEnvModule) # update module in case of changes\n",
    "from CloudEnvModule import CloudEnv # import custom environment\n",
    "from CloudEnvModule import STOP, calculate_evenness, CpuMem\n",
    "from gym.spaces import Box\n",
    "import numpy as np"
   ]
  },
  {
   "cell_type": "code",
   "execution_count": 2,
   "id": "31167631",
   "metadata": {},
   "outputs": [],
   "source": [
    "class NewCloudEnv(CloudEnv):\n",
    "    def __init__(self):\n",
    "        super().__init__(n=30, m=3)\n",
    "        self.timestamp = 0\n",
    "\n",
    "    # def get_state(self):\n",
    "    #     state = np.zeros(shape=(self.n, self.m, 5))\n",
    "    #     for i in range(self.n):\n",
    "    #         for j in range(self.m):\n",
    "    #             state[i][j] = [\n",
    "    #                 self.vms[i].cpu,\n",
    "    #                 self.vms[i].mem,\n",
    "    #                 self.servers[j].cpu,\n",
    "    #                 self.servers[j].mem,\n",
    "    #                 int(self.vms[i] <= self.servers[j])\n",
    "    #             ]\n",
    "    #     return state\n",
    "\n",
    "    def get_reward(self):\n",
    "        ans = 0\n",
    "        ans -= self.timestamp\n",
    "        for i in range(self.n):\n",
    "            if self.vms[i].cpu == STOP:\n",
    "                ans += 1\n",
    "        ans *= 0.1\n",
    "        ans += calculate_evenness(self.servers)\n",
    "        return self.update_score(ans)\n",
    "\n",
    "    def step(self, action):\n",
    "        self.timestamp += 1\n",
    "        return super().step(action)\n",
    "    \n",
    "    def reset(self):\n",
    "        self.timestamp = 0\n",
    "        return super().reset()\n",
    "\n",
    "env = NewCloudEnv()\n",
    "# env = CloudEnv()"
   ]
  },
  {
   "cell_type": "code",
   "execution_count": 3,
   "id": "eff4fdf3",
   "metadata": {},
   "outputs": [],
   "source": [
    "# from stable_baselines3 import A2C, TD3\n",
    "from stable_baselines3.common.sb2_compat.rmsprop_tf_like import RMSpropTFLike\n",
    "import os\n",
    "from ray.rllib.agents.ppo.ppo import PPOTrainer"
   ]
  },
  {
   "cell_type": "code",
   "execution_count": 4,
   "id": "9705e8b8",
   "metadata": {},
   "outputs": [
    {
     "name": "stderr",
     "output_type": "stream",
     "text": [
      "\u001b[2m\u001b[33m(raylet)\u001b[0m *** SIGSEGV received at time=1654407578 on cpu 1 ***\n",
      "\u001b[2m\u001b[33m(raylet)\u001b[0m PC: @     0x561f5986a8a0  (unknown)  ray::rpc::RequestWorkerLeaseReply::ByteSizeLong()\n",
      "\u001b[2m\u001b[33m(raylet)\u001b[0m     @     0x7f96bddf0420  281980512  (unknown)\n",
      "\u001b[2m\u001b[33m(raylet)\u001b[0m     @     0x561f59668438        208  grpc::GenericSerialize<>()\n",
      "\u001b[2m\u001b[33m(raylet)\u001b[0m     @     0x561f59668728        160  ray::rpc::ServerCallImpl<>::SendReply()\n",
      "\u001b[2m\u001b[33m(raylet)\u001b[0m     @     0x561f59668964        144  std::_Function_handler<>::_M_invoke()\n",
      "\u001b[2m\u001b[33m(raylet)\u001b[0m     @     0x561f596e55cc        496  std::_Function_handler<>::_M_invoke()\n",
      "\u001b[2m\u001b[33m(raylet)\u001b[0m     @     0x561f597c215a        144  std::_Function_handler<>::_M_invoke()\n",
      "\u001b[2m\u001b[33m(raylet)\u001b[0m     @     0x561f59708229        304  ray::raylet::LocalTaskManager::Dispatch()\n",
      "\u001b[2m\u001b[33m(raylet)\u001b[0m     @     0x561f5970a6df        416  ray::raylet::LocalTaskManager::PoppedWorkerHandler()\n",
      "\u001b[2m\u001b[33m(raylet)\u001b[0m     @     0x561f5970aba1         80  std::_Function_handler<>::_M_invoke()\n",
      "\u001b[2m\u001b[33m(raylet)\u001b[0m     @     0x561f596a3789        144  ray::raylet::WorkerPool::InvokePopWorkerCallbackForProcess()\n",
      "\u001b[2m\u001b[33m(raylet)\u001b[0m     @     0x561f596a3ac1        224  ray::raylet::WorkerPool::PushWorker()\n",
      "\u001b[2m\u001b[33m(raylet)\u001b[0m     @     0x561f596e3562         96  ray::raylet::NodeManager::HandleWorkerAvailable()\n",
      "\u001b[2m\u001b[33m(raylet)\u001b[0m     @     0x561f596e368d         48  ray::raylet::NodeManager::HandleWorkerAvailable()\n",
      "\u001b[2m\u001b[33m(raylet)\u001b[0m     @     0x561f596e3786        176  ray::raylet::NodeManager::ProcessAnnounceWorkerPortMessage()\n",
      "\u001b[2m\u001b[33m(raylet)\u001b[0m     @     0x561f596f1d82        256  ray::raylet::NodeManager::ProcessClientMessage()\n",
      "\u001b[2m\u001b[33m(raylet)\u001b[0m     @     0x561f5965f2b1         48  std::_Function_handler<>::_M_invoke()\n",
      "\u001b[2m\u001b[33m(raylet)\u001b[0m     @     0x561f598bca80        144  ray::ClientConnection::ProcessMessage()\n",
      "\u001b[2m\u001b[33m(raylet)\u001b[0m     @     0x561f598e9b26         96  EventTracker::RecordExecution()\n",
      "\u001b[2m\u001b[33m(raylet)\u001b[0m     @     0x561f598b7f97        160  boost::asio::detail::binder2<>::operator()()\n",
      "\u001b[2m\u001b[33m(raylet)\u001b[0m     @     0x561f598b8668        496  boost::asio::detail::reactive_socket_recv_op<>::do_complete()\n",
      "\u001b[2m\u001b[33m(raylet)\u001b[0m     @     0x561f59dc220b        128  boost::asio::detail::scheduler::do_run_one()\n",
      "\u001b[2m\u001b[33m(raylet)\u001b[0m     @     0x561f59dc39d1        192  boost::asio::detail::scheduler::run()\n",
      "\u001b[2m\u001b[33m(raylet)\u001b[0m     @     0x561f59dc3e10         64  boost::asio::io_context::run()\n",
      "\u001b[2m\u001b[33m(raylet)\u001b[0m     @     0x561f595e7738       1024  main\n",
      "\u001b[2m\u001b[33m(raylet)\u001b[0m     @     0x7f96bd8b8083  (unknown)  __libc_start_main\n",
      "\u001b[2m\u001b[33m(raylet)\u001b[0m [2022-06-05 08:39:38,379 E 47690 47690] (raylet) logging.cc:325: *** SIGSEGV received at time=1654407578 on cpu 1 ***\n",
      "\u001b[2m\u001b[33m(raylet)\u001b[0m [2022-06-05 08:39:38,379 E 47690 47690] (raylet) logging.cc:325: PC: @     0x561f5986a8a0  (unknown)  ray::rpc::RequestWorkerLeaseReply::ByteSizeLong()\n",
      "\u001b[2m\u001b[33m(raylet)\u001b[0m [2022-06-05 08:39:38,379 E 47690 47690] (raylet) logging.cc:325:     @     0x7f96bddf0420  281980512  (unknown)\n",
      "\u001b[2m\u001b[33m(raylet)\u001b[0m [2022-06-05 08:39:38,379 E 47690 47690] (raylet) logging.cc:325:     @     0x561f59668438        208  grpc::GenericSerialize<>()\n",
      "\u001b[2m\u001b[33m(raylet)\u001b[0m [2022-06-05 08:39:38,379 E 47690 47690] (raylet) logging.cc:325:     @     0x561f59668728        160  ray::rpc::ServerCallImpl<>::SendReply()\n",
      "\u001b[2m\u001b[33m(raylet)\u001b[0m [2022-06-05 08:39:38,379 E 47690 47690] (raylet) logging.cc:325:     @     0x561f59668964        144  std::_Function_handler<>::_M_invoke()\n",
      "\u001b[2m\u001b[33m(raylet)\u001b[0m [2022-06-05 08:39:38,379 E 47690 47690] (raylet) logging.cc:325:     @     0x561f596e55cc        496  std::_Function_handler<>::_M_invoke()\n",
      "\u001b[2m\u001b[33m(raylet)\u001b[0m [2022-06-05 08:39:38,379 E 47690 47690] (raylet) logging.cc:325:     @     0x561f597c215a        144  std::_Function_handler<>::_M_invoke()\n",
      "\u001b[2m\u001b[33m(raylet)\u001b[0m [2022-06-05 08:39:38,379 E 47690 47690] (raylet) logging.cc:325:     @     0x561f59708229        304  ray::raylet::LocalTaskManager::Dispatch()\n",
      "\u001b[2m\u001b[33m(raylet)\u001b[0m [2022-06-05 08:39:38,379 E 47690 47690] (raylet) logging.cc:325:     @     0x561f5970a6df        416  ray::raylet::LocalTaskManager::PoppedWorkerHandler()\n",
      "\u001b[2m\u001b[33m(raylet)\u001b[0m [2022-06-05 08:39:38,379 E 47690 47690] (raylet) logging.cc:325:     @     0x561f5970aba1         80  std::_Function_handler<>::_M_invoke()\n",
      "\u001b[2m\u001b[33m(raylet)\u001b[0m [2022-06-05 08:39:38,379 E 47690 47690] (raylet) logging.cc:325:     @     0x561f596a3789        144  ray::raylet::WorkerPool::InvokePopWorkerCallbackForProcess()\n",
      "\u001b[2m\u001b[33m(raylet)\u001b[0m [2022-06-05 08:39:38,379 E 47690 47690] (raylet) logging.cc:325:     @     0x561f596a3ac1        224  ray::raylet::WorkerPool::PushWorker()\n",
      "\u001b[2m\u001b[33m(raylet)\u001b[0m [2022-06-05 08:39:38,379 E 47690 47690] (raylet) logging.cc:325:     @     0x561f596e3562         96  ray::raylet::NodeManager::HandleWorkerAvailable()\n",
      "\u001b[2m\u001b[33m(raylet)\u001b[0m [2022-06-05 08:39:38,379 E 47690 47690] (raylet) logging.cc:325:     @     0x561f596e368d         48  ray::raylet::NodeManager::HandleWorkerAvailable()\n",
      "\u001b[2m\u001b[33m(raylet)\u001b[0m [2022-06-05 08:39:38,379 E 47690 47690] (raylet) logging.cc:325:     @     0x561f596e3786        176  ray::raylet::NodeManager::ProcessAnnounceWorkerPortMessage()\n",
      "\u001b[2m\u001b[33m(raylet)\u001b[0m [2022-06-05 08:39:38,379 E 47690 47690] (raylet) logging.cc:325:     @     0x561f596f1d82        256  ray::raylet::NodeManager::ProcessClientMessage()\n",
      "\u001b[2m\u001b[33m(raylet)\u001b[0m [2022-06-05 08:39:38,379 E 47690 47690] (raylet) logging.cc:325:     @     0x561f5965f2b1         48  std::_Function_handler<>::_M_invoke()\n",
      "\u001b[2m\u001b[33m(raylet)\u001b[0m [2022-06-05 08:39:38,379 E 47690 47690] (raylet) logging.cc:325:     @     0x561f598bca80        144  ray::ClientConnection::ProcessMessage()\n",
      "\u001b[2m\u001b[33m(raylet)\u001b[0m [2022-06-05 08:39:38,379 E 47690 47690] (raylet) logging.cc:325:     @     0x561f598e9b26         96  EventTracker::RecordExecution()\n",
      "\u001b[2m\u001b[33m(raylet)\u001b[0m [2022-06-05 08:39:38,379 E 47690 47690] (raylet) logging.cc:325:     @     0x561f598b7f97        160  boost::asio::detail::binder2<>::operator()()\n",
      "\u001b[2m\u001b[33m(raylet)\u001b[0m [2022-06-05 08:39:38,380 E 47690 47690] (raylet) logging.cc:325:     @     0x561f598b8668        496  boost::asio::detail::reactive_socket_recv_op<>::do_complete()\n",
      "\u001b[2m\u001b[33m(raylet)\u001b[0m [2022-06-05 08:39:38,380 E 47690 47690] (raylet) logging.cc:325:     @     0x561f59dc220b        128  boost::asio::detail::scheduler::do_run_one()\n",
      "\u001b[2m\u001b[33m(raylet)\u001b[0m [2022-06-05 08:39:38,380 E 47690 47690] (raylet) logging.cc:325:     @     0x561f59dc39d1        192  boost::asio::detail::scheduler::run()\n",
      "\u001b[2m\u001b[33m(raylet)\u001b[0m [2022-06-05 08:39:38,380 E 47690 47690] (raylet) logging.cc:325:     @     0x561f59dc3e10         64  boost::asio::io_context::run()\n",
      "\u001b[2m\u001b[33m(raylet)\u001b[0m [2022-06-05 08:39:38,380 E 47690 47690] (raylet) logging.cc:325:     @     0x561f595e7738       1024  main\n",
      "\u001b[2m\u001b[33m(raylet)\u001b[0m [2022-06-05 08:39:38,380 E 47690 47690] (raylet) logging.cc:325:     @     0x7f96bd8b8083  (unknown)  __libc_start_main\n",
      "2022-06-05 08:40:07,177\tWARNING worker.py:1382 -- The node with node id: 74bec067ae7558e1b8290253fa787ac48361bd03599654ae44e5b6fe and ip: 172.28.104.170 has been marked dead because the detector has missed too many heartbeats from it. This can happen when a raylet crashes unexpectedly or has lagging heartbeats.\n"
     ]
    },
    {
     "ename": "RayActorError",
     "evalue": "The actor died unexpectedly before finishing this task.\n\tclass_name: RolloutWorker\n\tactor_id: c8cfa1a9559eea0b7c569c2201000000\n\tnamespace: 59677e0e-60cf-46e3-b165-8b37a5f6ad38\nThe actor is dead because its owner has died. Owner Id: 01000000ffffffffffffffffffffffffffffffffffffffffffffffff Owner Ip address: 172.28.104.170 Owner worker exit type: NODE_DIED",
     "output_type": "error",
     "traceback": [
      "\u001b[0;31m---------------------------------------------------------------------------\u001b[0m",
      "\u001b[0;31mNotImplementedError\u001b[0m                       Traceback (most recent call last)",
      "File \u001b[0;32m~/.local/lib/python3.8/site-packages/ray/rllib/agents/trainer.py:896\u001b[0m, in \u001b[0;36mTrainer.setup\u001b[0;34m(self, config)\u001b[0m\n\u001b[1;32m    <a href='file:///home/okwedook/.local/lib/python3.8/site-packages/ray/rllib/agents/trainer.py?line=894'>895</a>\u001b[0m \u001b[39mtry\u001b[39;00m:\n\u001b[0;32m--> <a href='file:///home/okwedook/.local/lib/python3.8/site-packages/ray/rllib/agents/trainer.py?line=895'>896</a>\u001b[0m     \u001b[39mself\u001b[39;49m\u001b[39m.\u001b[39;49m_init(\u001b[39mself\u001b[39;49m\u001b[39m.\u001b[39;49mconfig, \u001b[39mself\u001b[39;49m\u001b[39m.\u001b[39;49menv_creator)\n\u001b[1;32m    <a href='file:///home/okwedook/.local/lib/python3.8/site-packages/ray/rllib/agents/trainer.py?line=896'>897</a>\u001b[0m \u001b[39m# New design: Override `Trainable.setup()` (as indented by Trainable)\u001b[39;00m\n\u001b[1;32m    <a href='file:///home/okwedook/.local/lib/python3.8/site-packages/ray/rllib/agents/trainer.py?line=897'>898</a>\u001b[0m \u001b[39m# and do or don't call super().setup() from within your override.\u001b[39;00m\n\u001b[1;32m    <a href='file:///home/okwedook/.local/lib/python3.8/site-packages/ray/rllib/agents/trainer.py?line=898'>899</a>\u001b[0m \u001b[39m# By default, `super().setup()` will create both worker sets:\u001b[39;00m\n\u001b[0;32m   (...)\u001b[0m\n\u001b[1;32m    <a href='file:///home/okwedook/.local/lib/python3.8/site-packages/ray/rllib/agents/trainer.py?line=901'>902</a>\u001b[0m \u001b[39m# parallel to training.\u001b[39;00m\n\u001b[1;32m    <a href='file:///home/okwedook/.local/lib/python3.8/site-packages/ray/rllib/agents/trainer.py?line=902'>903</a>\u001b[0m \u001b[39m# TODO: Deprecate `_init()` and remove this try/except block.\u001b[39;00m\n",
      "File \u001b[0;32m~/.local/lib/python3.8/site-packages/ray/rllib/agents/trainer.py:1035\u001b[0m, in \u001b[0;36mTrainer._init\u001b[0;34m(self, config, env_creator)\u001b[0m\n\u001b[1;32m   <a href='file:///home/okwedook/.local/lib/python3.8/site-packages/ray/rllib/agents/trainer.py?line=1033'>1034</a>\u001b[0m \u001b[39mdef\u001b[39;00m \u001b[39m_init\u001b[39m(\u001b[39mself\u001b[39m, config: TrainerConfigDict, env_creator: EnvCreator) \u001b[39m-\u001b[39m\u001b[39m>\u001b[39m \u001b[39mNone\u001b[39;00m:\n\u001b[0;32m-> <a href='file:///home/okwedook/.local/lib/python3.8/site-packages/ray/rllib/agents/trainer.py?line=1034'>1035</a>\u001b[0m     \u001b[39mraise\u001b[39;00m \u001b[39mNotImplementedError\u001b[39;00m\n",
      "\u001b[0;31mNotImplementedError\u001b[0m: ",
      "\nDuring handling of the above exception, another exception occurred:\n",
      "\u001b[0;31mRayActorError\u001b[0m                             Traceback (most recent call last)",
      "\u001b[1;32m/home/okwedook/Projects/CROL/code/RayCloud.ipynb Cell 4'\u001b[0m in \u001b[0;36m<cell line: 8>\u001b[0;34m()\u001b[0m\n\u001b[1;32m      <a href='vscode-notebook-cell:/home/okwedook/Projects/CROL/code/RayCloud.ipynb#ch0000003?line=5'>6</a>\u001b[0m config \u001b[39m=\u001b[39m PPOTrainer\u001b[39m.\u001b[39mget_default_config()\n\u001b[1;32m      <a href='vscode-notebook-cell:/home/okwedook/Projects/CROL/code/RayCloud.ipynb#ch0000003?line=6'>7</a>\u001b[0m config[\u001b[39m\"\u001b[39m\u001b[39menv\u001b[39m\u001b[39m\"\u001b[39m] \u001b[39m=\u001b[39m \u001b[39m\"\u001b[39m\u001b[39mNewCloudEnv\u001b[39m\u001b[39m\"\u001b[39m\n\u001b[0;32m----> <a href='vscode-notebook-cell:/home/okwedook/Projects/CROL/code/RayCloud.ipynb#ch0000003?line=7'>8</a>\u001b[0m model \u001b[39m=\u001b[39m PPOTrainer(config\u001b[39m=\u001b[39;49mconfig)\n",
      "File \u001b[0;32m~/.local/lib/python3.8/site-packages/ray/rllib/agents/trainer.py:830\u001b[0m, in \u001b[0;36mTrainer.__init__\u001b[0;34m(self, config, env, logger_creator, remote_checkpoint_dir, sync_function_tpl)\u001b[0m\n\u001b[1;32m    <a href='file:///home/okwedook/.local/lib/python3.8/site-packages/ray/rllib/agents/trainer.py?line=817'>818</a>\u001b[0m \u001b[39m# Initialize common evaluation_metrics to nan, before they become\u001b[39;00m\n\u001b[1;32m    <a href='file:///home/okwedook/.local/lib/python3.8/site-packages/ray/rllib/agents/trainer.py?line=818'>819</a>\u001b[0m \u001b[39m# available. We want to make sure the metrics are always present\u001b[39;00m\n\u001b[1;32m    <a href='file:///home/okwedook/.local/lib/python3.8/site-packages/ray/rllib/agents/trainer.py?line=819'>820</a>\u001b[0m \u001b[39m# (although their values may be nan), so that Tune does not complain\u001b[39;00m\n\u001b[1;32m    <a href='file:///home/okwedook/.local/lib/python3.8/site-packages/ray/rllib/agents/trainer.py?line=820'>821</a>\u001b[0m \u001b[39m# when we use these as stopping criteria.\u001b[39;00m\n\u001b[1;32m    <a href='file:///home/okwedook/.local/lib/python3.8/site-packages/ray/rllib/agents/trainer.py?line=821'>822</a>\u001b[0m \u001b[39mself\u001b[39m\u001b[39m.\u001b[39mevaluation_metrics \u001b[39m=\u001b[39m {\n\u001b[1;32m    <a href='file:///home/okwedook/.local/lib/python3.8/site-packages/ray/rllib/agents/trainer.py?line=822'>823</a>\u001b[0m     \u001b[39m\"\u001b[39m\u001b[39mevaluation\u001b[39m\u001b[39m\"\u001b[39m: {\n\u001b[1;32m    <a href='file:///home/okwedook/.local/lib/python3.8/site-packages/ray/rllib/agents/trainer.py?line=823'>824</a>\u001b[0m         \u001b[39m\"\u001b[39m\u001b[39mepisode_reward_max\u001b[39m\u001b[39m\"\u001b[39m: np\u001b[39m.\u001b[39mnan,\n\u001b[0;32m   (...)\u001b[0m\n\u001b[1;32m    <a href='file:///home/okwedook/.local/lib/python3.8/site-packages/ray/rllib/agents/trainer.py?line=826'>827</a>\u001b[0m     }\n\u001b[1;32m    <a href='file:///home/okwedook/.local/lib/python3.8/site-packages/ray/rllib/agents/trainer.py?line=827'>828</a>\u001b[0m }\n\u001b[0;32m--> <a href='file:///home/okwedook/.local/lib/python3.8/site-packages/ray/rllib/agents/trainer.py?line=829'>830</a>\u001b[0m \u001b[39msuper\u001b[39;49m()\u001b[39m.\u001b[39;49m\u001b[39m__init__\u001b[39;49m(\n\u001b[1;32m    <a href='file:///home/okwedook/.local/lib/python3.8/site-packages/ray/rllib/agents/trainer.py?line=830'>831</a>\u001b[0m     config, logger_creator, remote_checkpoint_dir, sync_function_tpl\n\u001b[1;32m    <a href='file:///home/okwedook/.local/lib/python3.8/site-packages/ray/rllib/agents/trainer.py?line=831'>832</a>\u001b[0m )\n",
      "File \u001b[0;32m~/.local/lib/python3.8/site-packages/ray/tune/trainable.py:149\u001b[0m, in \u001b[0;36mTrainable.__init__\u001b[0;34m(self, config, logger_creator, remote_checkpoint_dir, sync_function_tpl)\u001b[0m\n\u001b[1;32m    <a href='file:///home/okwedook/.local/lib/python3.8/site-packages/ray/tune/trainable.py?line=146'>147</a>\u001b[0m start_time \u001b[39m=\u001b[39m time\u001b[39m.\u001b[39mtime()\n\u001b[1;32m    <a href='file:///home/okwedook/.local/lib/python3.8/site-packages/ray/tune/trainable.py?line=147'>148</a>\u001b[0m \u001b[39mself\u001b[39m\u001b[39m.\u001b[39m_local_ip \u001b[39m=\u001b[39m \u001b[39mself\u001b[39m\u001b[39m.\u001b[39mget_current_ip()\n\u001b[0;32m--> <a href='file:///home/okwedook/.local/lib/python3.8/site-packages/ray/tune/trainable.py?line=148'>149</a>\u001b[0m \u001b[39mself\u001b[39;49m\u001b[39m.\u001b[39;49msetup(copy\u001b[39m.\u001b[39;49mdeepcopy(\u001b[39mself\u001b[39;49m\u001b[39m.\u001b[39;49mconfig))\n\u001b[1;32m    <a href='file:///home/okwedook/.local/lib/python3.8/site-packages/ray/tune/trainable.py?line=149'>150</a>\u001b[0m setup_time \u001b[39m=\u001b[39m time\u001b[39m.\u001b[39mtime() \u001b[39m-\u001b[39m start_time\n\u001b[1;32m    <a href='file:///home/okwedook/.local/lib/python3.8/site-packages/ray/tune/trainable.py?line=150'>151</a>\u001b[0m \u001b[39mif\u001b[39;00m setup_time \u001b[39m>\u001b[39m SETUP_TIME_THRESHOLD:\n",
      "File \u001b[0;32m~/.local/lib/python3.8/site-packages/ray/rllib/agents/trainer.py:911\u001b[0m, in \u001b[0;36mTrainer.setup\u001b[0;34m(self, config)\u001b[0m\n\u001b[1;32m    <a href='file:///home/okwedook/.local/lib/python3.8/site-packages/ray/rllib/agents/trainer.py?line=896'>897</a>\u001b[0m \u001b[39m# New design: Override `Trainable.setup()` (as indented by Trainable)\u001b[39;00m\n\u001b[1;32m    <a href='file:///home/okwedook/.local/lib/python3.8/site-packages/ray/rllib/agents/trainer.py?line=897'>898</a>\u001b[0m \u001b[39m# and do or don't call super().setup() from within your override.\u001b[39;00m\n\u001b[1;32m    <a href='file:///home/okwedook/.local/lib/python3.8/site-packages/ray/rllib/agents/trainer.py?line=898'>899</a>\u001b[0m \u001b[39m# By default, `super().setup()` will create both worker sets:\u001b[39;00m\n\u001b[0;32m   (...)\u001b[0m\n\u001b[1;32m    <a href='file:///home/okwedook/.local/lib/python3.8/site-packages/ray/rllib/agents/trainer.py?line=901'>902</a>\u001b[0m \u001b[39m# parallel to training.\u001b[39;00m\n\u001b[1;32m    <a href='file:///home/okwedook/.local/lib/python3.8/site-packages/ray/rllib/agents/trainer.py?line=902'>903</a>\u001b[0m \u001b[39m# TODO: Deprecate `_init()` and remove this try/except block.\u001b[39;00m\n\u001b[1;32m    <a href='file:///home/okwedook/.local/lib/python3.8/site-packages/ray/rllib/agents/trainer.py?line=903'>904</a>\u001b[0m \u001b[39mexcept\u001b[39;00m \u001b[39mNotImplementedError\u001b[39;00m:\n\u001b[1;32m    <a href='file:///home/okwedook/.local/lib/python3.8/site-packages/ray/rllib/agents/trainer.py?line=904'>905</a>\u001b[0m     \u001b[39m# Only if user did not override `_init()`:\u001b[39;00m\n\u001b[1;32m    <a href='file:///home/okwedook/.local/lib/python3.8/site-packages/ray/rllib/agents/trainer.py?line=905'>906</a>\u001b[0m     \u001b[39m# - Create rollout workers here automatically.\u001b[39;00m\n\u001b[0;32m   (...)\u001b[0m\n\u001b[1;32m    <a href='file:///home/okwedook/.local/lib/python3.8/site-packages/ray/rllib/agents/trainer.py?line=908'>909</a>\u001b[0m     \u001b[39m# This matches the behavior of using `build_trainer()`, which\u001b[39;00m\n\u001b[1;32m    <a href='file:///home/okwedook/.local/lib/python3.8/site-packages/ray/rllib/agents/trainer.py?line=909'>910</a>\u001b[0m     \u001b[39m# should no longer be used.\u001b[39;00m\n\u001b[0;32m--> <a href='file:///home/okwedook/.local/lib/python3.8/site-packages/ray/rllib/agents/trainer.py?line=910'>911</a>\u001b[0m     \u001b[39mself\u001b[39m\u001b[39m.\u001b[39mworkers \u001b[39m=\u001b[39m WorkerSet(\n\u001b[1;32m    <a href='file:///home/okwedook/.local/lib/python3.8/site-packages/ray/rllib/agents/trainer.py?line=911'>912</a>\u001b[0m         env_creator\u001b[39m=\u001b[39;49m\u001b[39mself\u001b[39;49m\u001b[39m.\u001b[39;49menv_creator,\n\u001b[1;32m    <a href='file:///home/okwedook/.local/lib/python3.8/site-packages/ray/rllib/agents/trainer.py?line=912'>913</a>\u001b[0m         validate_env\u001b[39m=\u001b[39;49m\u001b[39mself\u001b[39;49m\u001b[39m.\u001b[39;49mvalidate_env,\n\u001b[1;32m    <a href='file:///home/okwedook/.local/lib/python3.8/site-packages/ray/rllib/agents/trainer.py?line=913'>914</a>\u001b[0m         policy_class\u001b[39m=\u001b[39;49m\u001b[39mself\u001b[39;49m\u001b[39m.\u001b[39;49mget_default_policy_class(\u001b[39mself\u001b[39;49m\u001b[39m.\u001b[39;49mconfig),\n\u001b[1;32m    <a href='file:///home/okwedook/.local/lib/python3.8/site-packages/ray/rllib/agents/trainer.py?line=914'>915</a>\u001b[0m         trainer_config\u001b[39m=\u001b[39;49m\u001b[39mself\u001b[39;49m\u001b[39m.\u001b[39;49mconfig,\n\u001b[1;32m    <a href='file:///home/okwedook/.local/lib/python3.8/site-packages/ray/rllib/agents/trainer.py?line=915'>916</a>\u001b[0m         num_workers\u001b[39m=\u001b[39;49m\u001b[39mself\u001b[39;49m\u001b[39m.\u001b[39;49mconfig[\u001b[39m\"\u001b[39;49m\u001b[39mnum_workers\u001b[39;49m\u001b[39m\"\u001b[39;49m],\n\u001b[1;32m    <a href='file:///home/okwedook/.local/lib/python3.8/site-packages/ray/rllib/agents/trainer.py?line=916'>917</a>\u001b[0m         local_worker\u001b[39m=\u001b[39;49m\u001b[39mTrue\u001b[39;49;00m,\n\u001b[1;32m    <a href='file:///home/okwedook/.local/lib/python3.8/site-packages/ray/rllib/agents/trainer.py?line=917'>918</a>\u001b[0m         logdir\u001b[39m=\u001b[39;49m\u001b[39mself\u001b[39;49m\u001b[39m.\u001b[39;49mlogdir,\n\u001b[1;32m    <a href='file:///home/okwedook/.local/lib/python3.8/site-packages/ray/rllib/agents/trainer.py?line=918'>919</a>\u001b[0m     )\n\u001b[1;32m    <a href='file:///home/okwedook/.local/lib/python3.8/site-packages/ray/rllib/agents/trainer.py?line=920'>921</a>\u001b[0m     \u001b[39m# Function defining one single training iteration's behavior.\u001b[39;00m\n\u001b[1;32m    <a href='file:///home/okwedook/.local/lib/python3.8/site-packages/ray/rllib/agents/trainer.py?line=921'>922</a>\u001b[0m     \u001b[39mif\u001b[39;00m \u001b[39mself\u001b[39m\u001b[39m.\u001b[39mconfig[\u001b[39m\"\u001b[39m\u001b[39m_disable_execution_plan_api\u001b[39m\u001b[39m\"\u001b[39m]:\n\u001b[1;32m    <a href='file:///home/okwedook/.local/lib/python3.8/site-packages/ray/rllib/agents/trainer.py?line=922'>923</a>\u001b[0m         \u001b[39m# TODO: Ensure remote workers are initially in sync with the\u001b[39;00m\n\u001b[1;32m    <a href='file:///home/okwedook/.local/lib/python3.8/site-packages/ray/rllib/agents/trainer.py?line=923'>924</a>\u001b[0m         \u001b[39m# local worker.\u001b[39;00m\n\u001b[1;32m    <a href='file:///home/okwedook/.local/lib/python3.8/site-packages/ray/rllib/agents/trainer.py?line=924'>925</a>\u001b[0m         \u001b[39m# self.workers.sync_weights()\u001b[39;00m\n",
      "File \u001b[0;32m~/.local/lib/python3.8/site-packages/ray/rllib/evaluation/worker_set.py:134\u001b[0m, in \u001b[0;36mWorkerSet.__init__\u001b[0;34m(self, env_creator, validate_env, policy_class, trainer_config, num_workers, local_worker, logdir, _setup)\u001b[0m\n\u001b[1;32m    <a href='file:///home/okwedook/.local/lib/python3.8/site-packages/ray/rllib/evaluation/worker_set.py?line=120'>121</a>\u001b[0m \u001b[39m# Create a local worker, if needed.\u001b[39;00m\n\u001b[1;32m    <a href='file:///home/okwedook/.local/lib/python3.8/site-packages/ray/rllib/evaluation/worker_set.py?line=121'>122</a>\u001b[0m \u001b[39m# If num_workers > 0 and we don't have an env on the local worker,\u001b[39;00m\n\u001b[1;32m    <a href='file:///home/okwedook/.local/lib/python3.8/site-packages/ray/rllib/evaluation/worker_set.py?line=122'>123</a>\u001b[0m \u001b[39m# get the observation- and action spaces for each policy from\u001b[39;00m\n\u001b[1;32m    <a href='file:///home/okwedook/.local/lib/python3.8/site-packages/ray/rllib/evaluation/worker_set.py?line=123'>124</a>\u001b[0m \u001b[39m# the first remote worker (which does have an env).\u001b[39;00m\n\u001b[1;32m    <a href='file:///home/okwedook/.local/lib/python3.8/site-packages/ray/rllib/evaluation/worker_set.py?line=124'>125</a>\u001b[0m \u001b[39mif\u001b[39;00m (\n\u001b[1;32m    <a href='file:///home/okwedook/.local/lib/python3.8/site-packages/ray/rllib/evaluation/worker_set.py?line=125'>126</a>\u001b[0m     local_worker\n\u001b[1;32m    <a href='file:///home/okwedook/.local/lib/python3.8/site-packages/ray/rllib/evaluation/worker_set.py?line=126'>127</a>\u001b[0m     \u001b[39mand\u001b[39;00m \u001b[39mself\u001b[39m\u001b[39m.\u001b[39m_remote_workers\n\u001b[0;32m   (...)\u001b[0m\n\u001b[1;32m    <a href='file:///home/okwedook/.local/lib/python3.8/site-packages/ray/rllib/evaluation/worker_set.py?line=131'>132</a>\u001b[0m     )\n\u001b[1;32m    <a href='file:///home/okwedook/.local/lib/python3.8/site-packages/ray/rllib/evaluation/worker_set.py?line=132'>133</a>\u001b[0m ):\n\u001b[0;32m--> <a href='file:///home/okwedook/.local/lib/python3.8/site-packages/ray/rllib/evaluation/worker_set.py?line=133'>134</a>\u001b[0m     remote_spaces \u001b[39m=\u001b[39m ray\u001b[39m.\u001b[39;49mget(\n\u001b[1;32m    <a href='file:///home/okwedook/.local/lib/python3.8/site-packages/ray/rllib/evaluation/worker_set.py?line=134'>135</a>\u001b[0m         \u001b[39mself\u001b[39;49m\u001b[39m.\u001b[39;49mremote_workers()[\u001b[39m0\u001b[39;49m]\u001b[39m.\u001b[39;49mforeach_policy\u001b[39m.\u001b[39;49mremote(\n\u001b[1;32m    <a href='file:///home/okwedook/.local/lib/python3.8/site-packages/ray/rllib/evaluation/worker_set.py?line=135'>136</a>\u001b[0m             \u001b[39mlambda\u001b[39;49;00m p, pid: (pid, p\u001b[39m.\u001b[39;49mobservation_space, p\u001b[39m.\u001b[39;49maction_space)\n\u001b[1;32m    <a href='file:///home/okwedook/.local/lib/python3.8/site-packages/ray/rllib/evaluation/worker_set.py?line=136'>137</a>\u001b[0m         )\n\u001b[1;32m    <a href='file:///home/okwedook/.local/lib/python3.8/site-packages/ray/rllib/evaluation/worker_set.py?line=137'>138</a>\u001b[0m     )\n\u001b[1;32m    <a href='file:///home/okwedook/.local/lib/python3.8/site-packages/ray/rllib/evaluation/worker_set.py?line=138'>139</a>\u001b[0m     spaces \u001b[39m=\u001b[39m {\n\u001b[1;32m    <a href='file:///home/okwedook/.local/lib/python3.8/site-packages/ray/rllib/evaluation/worker_set.py?line=139'>140</a>\u001b[0m         e[\u001b[39m0\u001b[39m]: (\u001b[39mgetattr\u001b[39m(e[\u001b[39m1\u001b[39m], \u001b[39m\"\u001b[39m\u001b[39moriginal_space\u001b[39m\u001b[39m\"\u001b[39m, e[\u001b[39m1\u001b[39m]), e[\u001b[39m2\u001b[39m])\n\u001b[1;32m    <a href='file:///home/okwedook/.local/lib/python3.8/site-packages/ray/rllib/evaluation/worker_set.py?line=140'>141</a>\u001b[0m         \u001b[39mfor\u001b[39;00m e \u001b[39min\u001b[39;00m remote_spaces\n\u001b[1;32m    <a href='file:///home/okwedook/.local/lib/python3.8/site-packages/ray/rllib/evaluation/worker_set.py?line=141'>142</a>\u001b[0m     }\n\u001b[1;32m    <a href='file:///home/okwedook/.local/lib/python3.8/site-packages/ray/rllib/evaluation/worker_set.py?line=142'>143</a>\u001b[0m     \u001b[39m# Try to add the actual env's obs/action spaces.\u001b[39;00m\n",
      "File \u001b[0;32m~/.local/lib/python3.8/site-packages/ray/_private/client_mode_hook.py:105\u001b[0m, in \u001b[0;36mclient_mode_hook.<locals>.wrapper\u001b[0;34m(*args, **kwargs)\u001b[0m\n\u001b[1;32m    <a href='file:///home/okwedook/.local/lib/python3.8/site-packages/ray/_private/client_mode_hook.py?line=102'>103</a>\u001b[0m     \u001b[39mif\u001b[39;00m func\u001b[39m.\u001b[39m\u001b[39m__name__\u001b[39m \u001b[39m!=\u001b[39m \u001b[39m\"\u001b[39m\u001b[39minit\u001b[39m\u001b[39m\"\u001b[39m \u001b[39mor\u001b[39;00m is_client_mode_enabled_by_default:\n\u001b[1;32m    <a href='file:///home/okwedook/.local/lib/python3.8/site-packages/ray/_private/client_mode_hook.py?line=103'>104</a>\u001b[0m         \u001b[39mreturn\u001b[39;00m \u001b[39mgetattr\u001b[39m(ray, func\u001b[39m.\u001b[39m\u001b[39m__name__\u001b[39m)(\u001b[39m*\u001b[39margs, \u001b[39m*\u001b[39m\u001b[39m*\u001b[39mkwargs)\n\u001b[0;32m--> <a href='file:///home/okwedook/.local/lib/python3.8/site-packages/ray/_private/client_mode_hook.py?line=104'>105</a>\u001b[0m \u001b[39mreturn\u001b[39;00m func(\u001b[39m*\u001b[39;49margs, \u001b[39m*\u001b[39;49m\u001b[39m*\u001b[39;49mkwargs)\n",
      "File \u001b[0;32m~/.local/lib/python3.8/site-packages/ray/worker.py:1811\u001b[0m, in \u001b[0;36mget\u001b[0;34m(object_refs, timeout)\u001b[0m\n\u001b[1;32m   <a href='file:///home/okwedook/.local/lib/python3.8/site-packages/ray/worker.py?line=1808'>1809</a>\u001b[0m             \u001b[39mraise\u001b[39;00m value\u001b[39m.\u001b[39mas_instanceof_cause()\n\u001b[1;32m   <a href='file:///home/okwedook/.local/lib/python3.8/site-packages/ray/worker.py?line=1809'>1810</a>\u001b[0m         \u001b[39melse\u001b[39;00m:\n\u001b[0;32m-> <a href='file:///home/okwedook/.local/lib/python3.8/site-packages/ray/worker.py?line=1810'>1811</a>\u001b[0m             \u001b[39mraise\u001b[39;00m value\n\u001b[1;32m   <a href='file:///home/okwedook/.local/lib/python3.8/site-packages/ray/worker.py?line=1812'>1813</a>\u001b[0m \u001b[39mif\u001b[39;00m is_individual_id:\n\u001b[1;32m   <a href='file:///home/okwedook/.local/lib/python3.8/site-packages/ray/worker.py?line=1813'>1814</a>\u001b[0m     values \u001b[39m=\u001b[39m values[\u001b[39m0\u001b[39m]\n",
      "\u001b[0;31mRayActorError\u001b[0m: The actor died unexpectedly before finishing this task.\n\tclass_name: RolloutWorker\n\tactor_id: c8cfa1a9559eea0b7c569c2201000000\n\tnamespace: 59677e0e-60cf-46e3-b165-8b37a5f6ad38\nThe actor is dead because its owner has died. Owner Id: 01000000ffffffffffffffffffffffffffffffffffffffffffffffff Owner Ip address: 172.28.104.170 Owner worker exit type: NODE_DIED"
     ]
    },
    {
     "ename": "",
     "evalue": "",
     "output_type": "error",
     "traceback": [
      "\u001b[1;31mThe Kernel crashed while executing code in the the current cell or a previous cell. Please review the code in the cell(s) to identify a possible cause of the failure. Click <a href='https://aka.ms/vscodeJupyterKernelCrash'>here</a> for more info. View Jupyter <a href='command:jupyter.viewOutput'>log</a> for further details."
     ]
    }
   ],
   "source": [
    "log_path = os.path.join('Training', 'Logs')\n",
    "load_path = os.path.join('Training', 'Saved Models', 'A2Cn30m3_9M')\n",
    "# model = A3CTrainer.load(load_path, env=env)\n",
    "from ray.tune.registry import register_env\n",
    "register_env(\"NewCloudEnv\", NewCloudEnv)\n",
    "config = PPOTrainer.get_default_config()\n",
    "config[\"env\"] = \"NewCloudEnv\"\n",
    "model = PPOTrainer(config=config)"
   ]
  },
  {
   "cell_type": "code",
   "execution_count": null,
   "id": "dfdb7f75",
   "metadata": {},
   "outputs": [],
   "source": [
    "save_path = os.path.join('Training', 'Saved Models', 'A2Cn30m3_15M')\n",
    "model.save(save_path)"
   ]
  },
  {
   "cell_type": "code",
   "execution_count": null,
   "id": "8c19f596",
   "metadata": {},
   "outputs": [],
   "source": []
  }
 ],
 "metadata": {
  "interpreter": {
   "hash": "916dbcbb3f70747c44a77c7bcd40155683ae19c65e1c03b4aa3499c5328201f1"
  },
  "kernelspec": {
   "display_name": "Python 3.8.10 64-bit",
   "language": "python",
   "name": "python3"
  },
  "language_info": {
   "codemirror_mode": {
    "name": "ipython",
    "version": 3
   },
   "file_extension": ".py",
   "mimetype": "text/x-python",
   "name": "python",
   "nbconvert_exporter": "python",
   "pygments_lexer": "ipython3",
   "version": "3.8.10"
  }
 },
 "nbformat": 4,
 "nbformat_minor": 5
}
